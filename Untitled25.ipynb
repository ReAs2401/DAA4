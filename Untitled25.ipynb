{
 "cells": [
  {
   "cell_type": "code",
   "execution_count": 1,
   "id": "5c414e60-2a25-4ca6-a50e-35e154afbc41",
   "metadata": {},
   "outputs": [],
   "source": [
    "def closestNumber(arr, low, high, x):\n",
    "    if low>high:\n",
    "        return -1\n",
    "    if arr[high]<=x:\n",
    "        return arr[high]\n",
    "    if arr[low]>=x:\n",
    "        return arr[low]\n",
    "    mid=(low+high)//2\n",
    "    if arr[mid]==x:\n",
    "        return arr[mid]\n",
    "    abs_mid=abs(arr[mid]-x)\n",
    "    if mid>0:\n",
    "        abs_left=abs(arr[mid-1]-x)\n",
    "        if abs_left<abs_mid:\n",
    "            return closestNumber(arr, low, mid-1, x)\n",
    "    if mid<high:\n",
    "        abs_right=abs(arr[mid+1]-x)\n",
    "        if abs_right<abs_mid:\n",
    "            return closestNumber(arr, mid+1, high, x)\n",
    "    #print('after')\n",
    "    return arr[mid]"
   ]
  },
  {
   "cell_type": "code",
   "execution_count": 2,
   "id": "ed69ca38-1ebe-4e65-b743-520de410b4a9",
   "metadata": {},
   "outputs": [
    {
     "name": "stdout",
     "output_type": "stream",
     "text": [
      "9\n"
     ]
    }
   ],
   "source": [
    "arr=[2, 5, 6, 7, 8, 8, 9]\n",
    "x=9\n",
    "print(closestNumber(arr,0,len(arr)-1,x))"
   ]
  },
  {
   "cell_type": "code",
   "execution_count": null,
   "id": "90db5743-b7ef-4d25-9ee8-f875fcf92bdf",
   "metadata": {},
   "outputs": [],
   "source": []
  }
 ],
 "metadata": {
  "kernelspec": {
   "display_name": "Python 3 (ipykernel)",
   "language": "python",
   "name": "python3"
  },
  "language_info": {
   "codemirror_mode": {
    "name": "ipython",
    "version": 3
   },
   "file_extension": ".py",
   "mimetype": "text/x-python",
   "name": "python",
   "nbconvert_exporter": "python",
   "pygments_lexer": "ipython3",
   "version": "3.9.12"
  }
 },
 "nbformat": 4,
 "nbformat_minor": 5
}
