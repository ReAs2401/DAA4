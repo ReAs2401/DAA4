{
 "cells": [
  {
   "cell_type": "code",
   "execution_count": 1,
   "id": "c9a7d916-f578-44c8-8f5a-bc5b8282fed6",
   "metadata": {},
   "outputs": [],
   "source": [
    "def fixedPoint(arr,low,high):\n",
    "    if low>high:\n",
    "        return -1\n",
    "    if arr[high]==high:\n",
    "        return arr[high]\n",
    "    if arr[low]==low:\n",
    "        return arr[low]\n",
    "    mid=(low+high)//2\n",
    "    if arr[mid]==mid:\n",
    "        return arr[mid]\n",
    "    if mid>arr[mid]:\n",
    "        return fixedPoint(arr,mid+1,high)\n",
    "    else:\n",
    "        return fixedPoint(arr,low,mid-1)"
   ]
  },
  {
   "cell_type": "code",
   "execution_count": 2,
   "id": "29cb16e0-58f8-4766-8ff0-b693b90fe358",
   "metadata": {},
   "outputs": [
    {
     "name": "stdout",
     "output_type": "stream",
     "text": [
      "1\n"
     ]
    }
   ],
   "source": [
    "arr=[9,1,4,5,2]\n",
    "print(fixedPoint(arr,0,len(arr)-1))\n"
   ]
  },
  {
   "cell_type": "code",
   "execution_count": null,
   "id": "713da1f7-7038-4509-b121-963538d4b1c6",
   "metadata": {},
   "outputs": [],
   "source": []
  }
 ],
 "metadata": {
  "kernelspec": {
   "display_name": "Python 3 (ipykernel)",
   "language": "python",
   "name": "python3"
  },
  "language_info": {
   "codemirror_mode": {
    "name": "ipython",
    "version": 3
   },
   "file_extension": ".py",
   "mimetype": "text/x-python",
   "name": "python",
   "nbconvert_exporter": "python",
   "pygments_lexer": "ipython3",
   "version": "3.9.12"
  }
 },
 "nbformat": 4,
 "nbformat_minor": 5
}
