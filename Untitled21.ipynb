{
 "cells": [
  {
   "cell_type": "code",
   "execution_count": 1,
   "id": "ca171b2a-c921-4df3-9d34-6314c68ffefc",
   "metadata": {},
   "outputs": [],
   "source": [
    "def maxSubSum(arr):\n",
    "    max_so_far=0\n",
    "    max_ending_here=0\n",
    "    for i in range(len(arr)):\n",
    "        max_ending_here+=arr[i]\n",
    "        if max_ending_here>max_so_far:\n",
    "            max_so_far=max_ending_here\n",
    "        if max_ending_here<0:\n",
    "            max_ending_here=0\n",
    "    return max_so_far"
   ]
  },
  {
   "cell_type": "code",
   "execution_count": 3,
   "id": "b29c59ca-3de1-44c4-ad5c-4c7bc64aacef",
   "metadata": {},
   "outputs": [
    {
     "name": "stdout",
     "output_type": "stream",
     "text": [
      "7\n"
     ]
    }
   ],
   "source": [
    "arr=[-2, -5, 6, -2, -3, 1, 5, -6]\n",
    "result=maxSubSum(arr)\n",
    "print(result)"
   ]
  },
  {
   "cell_type": "code",
   "execution_count": null,
   "id": "095c9056-5ac8-4ae4-88ff-a717c40ca6e7",
   "metadata": {},
   "outputs": [],
   "source": []
  }
 ],
 "metadata": {
  "kernelspec": {
   "display_name": "Python 3 (ipykernel)",
   "language": "python",
   "name": "python3"
  },
  "language_info": {
   "codemirror_mode": {
    "name": "ipython",
    "version": 3
   },
   "file_extension": ".py",
   "mimetype": "text/x-python",
   "name": "python",
   "nbconvert_exporter": "python",
   "pygments_lexer": "ipython3",
   "version": "3.9.12"
  }
 },
 "nbformat": 4,
 "nbformat_minor": 5
}
