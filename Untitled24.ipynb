{
 "cells": [
  {
   "cell_type": "code",
   "execution_count": 1,
   "id": "d1549da2-9bdc-48ba-9dfd-b7bca62377bc",
   "metadata": {},
   "outputs": [],
   "source": [
    "def medianOfArray(arr1, arr2, n):\n",
    "    m1=-1 #firstnumber\n",
    "    m2=-1 #secondnumber\n",
    "    count = 0\n",
    "    i = j = 0\n",
    "    while count<n+1:\n",
    "        count+=1\n",
    "        if i==n: #i == 5 index error if arr1[i]<arr2[j] is checked\n",
    "            m1=m2\n",
    "            m2=arr2[0]\n",
    "            break\n",
    "        if j==n:\n",
    "            m1=m2\n",
    "            m2=arr1[0]\n",
    "            break\n",
    "        if arr1[i]<arr2[j]:\n",
    "            m1=m2\n",
    "            m2=arr1[i]\n",
    "            i+=1\n",
    "        else:\n",
    "            m1=m2\n",
    "            m2=arr2[j]\n",
    "            j+=1\n",
    "    return(m1+m2)//2"
   ]
  },
  {
   "cell_type": "code",
   "execution_count": 2,
   "id": "10a3a00a-1c9e-4292-866c-04b9b4a19b93",
   "metadata": {},
   "outputs": [],
   "source": [
    "arr1=[1,12,15,26,38]\n",
    "arr2=[2,13,17,30,45]"
   ]
  },
  {
   "cell_type": "code",
   "execution_count": 3,
   "id": "bd1868ab-97ff-4a90-b97b-d6df75d98c17",
   "metadata": {},
   "outputs": [
    {
     "name": "stdout",
     "output_type": "stream",
     "text": [
      "16\n"
     ]
    }
   ],
   "source": [
    "print(medianOfArray(arr1,arr2,len(arr1)))"
   ]
  },
  {
   "cell_type": "code",
   "execution_count": 4,
   "id": "7059e277-686f-40b5-8d8e-bb8d900d98a0",
   "metadata": {},
   "outputs": [],
   "source": [
    "def floorSorted(arr, low, high, x):\n",
    "    if low>high:\n",
    "        return -1\n",
    "    if arr[low]>x:\n",
    "        return -1\n",
    "    if arr[high]<=x:\n",
    "        return arr[high]\n",
    "    mid=(low+high)//2\n",
    "    if arr[mid]==x:\n",
    "        return arr[mid]\n",
    "    if mid>0 and x>=arr[mid-1] and arr[mid]>x:\n",
    "        return arr[mid-1]\n",
    "    if mid<high and x<arr[mid+1] and x>=arr[mid]:\n",
    "        return arr[mid]\n",
    "    if x>arr[mid]:\n",
    "        return floorSorted(arr,mid+1,high,x)\n",
    "    else:\n",
    "        return floorSorted(arr,low,mid-1,x)"
   ]
  },
  {
   "cell_type": "code",
   "execution_count": 5,
   "id": "b32caf56-fbf6-489d-8027-cdab9df0c648",
   "metadata": {},
   "outputs": [],
   "source": [
    "arr=[1,2,8,10,12,14,19]"
   ]
  },
  {
   "cell_type": "code",
   "execution_count": 6,
   "id": "84c5b605-5c95-4251-99c5-1834ece607aa",
   "metadata": {},
   "outputs": [],
   "source": [
    "x=5"
   ]
  },
  {
   "cell_type": "code",
   "execution_count": 7,
   "id": "3a56c64e-a8fa-428b-8328-10b63a14ce8d",
   "metadata": {},
   "outputs": [
    {
     "name": "stdout",
     "output_type": "stream",
     "text": [
      "2\n"
     ]
    }
   ],
   "source": [
    "print(floorSorted(arr,0,len(arr)-1,x))"
   ]
  },
  {
   "cell_type": "code",
   "execution_count": null,
   "id": "1b503920-f98a-4798-946f-1849b145a9a2",
   "metadata": {},
   "outputs": [],
   "source": []
  }
 ],
 "metadata": {
  "kernelspec": {
   "display_name": "Python 3 (ipykernel)",
   "language": "python",
   "name": "python3"
  },
  "language_info": {
   "codemirror_mode": {
    "name": "ipython",
    "version": 3
   },
   "file_extension": ".py",
   "mimetype": "text/x-python",
   "name": "python",
   "nbconvert_exporter": "python",
   "pygments_lexer": "ipython3",
   "version": "3.9.12"
  }
 },
 "nbformat": 4,
 "nbformat_minor": 5
}
